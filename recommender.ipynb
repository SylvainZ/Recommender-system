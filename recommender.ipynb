{
 "cells": [
  {
   "cell_type": "code",
   "execution_count": 2,
   "metadata": {},
   "outputs": [],
   "source": [
    "import pandas as pd\n",
    "import numpy as np\n",
    "import recmetrics"
   ]
  },
  {
   "cell_type": "code",
   "execution_count": 3,
   "metadata": {},
   "outputs": [],
   "source": [
    "rating =  pd.read_csv('D:/recommender system/rating_1000.csv',sep = ',',error_bad_lines=False)\n",
    "item_matrix =  pd.read_csv('D:/recommender system/item_matrix.csv',sep = ';',error_bad_lines=False)"
   ]
  },
  {
   "cell_type": "code",
   "execution_count": null,
   "metadata": {},
   "outputs": [],
   "source": [
    "#select films in rating that are in item_matrix\n",
    "keepvalues = pd.unique(item_matrix['movieId'])\n",
    "rating = rating.loc[rating['movieId'].isin(keepvalues)]\n",
    "rating = pd.pivot_table(rating,values='rating',index='userId',columns='movieId')"
   ]
  },
  {
   "cell_type": "markdown",
   "metadata": {},
   "source": [
    "# Comptage occurences genres"
   ]
  },
  {
   "cell_type": "code",
   "execution_count": null,
   "metadata": {},
   "outputs": [],
   "source": [
    "genre =  pd.read_csv('D:/recommender system/genre_matrix.csv',sep = ';',error_bad_lines=False)\n",
    "genre = genre.loc[genre['movieId'].isin(keepvalues)]\n",
    "genre = genre.set_index('movieId')"
   ]
  },
  {
   "cell_type": "code",
   "execution_count": 20,
   "metadata": {},
   "outputs": [],
   "source": [
    "a=0\n",
    "c = np.zeros( (len(list(rating.index.values)), len(rating.columns.values)) )\n",
    "for l in list(rating.index.values):\n",
    "    m=0\n",
    "    for j in list(rating.columns.values):\n",
    "        n= 0\n",
    "        item = []\n",
    "        item.append(j)\n",
    "        for i in list(rating.columns.values):\n",
    "            if (not(pd.isna(rating.loc[l,i]))):\n",
    "                n = n+1\n",
    "                item.append(i)\n",
    "\n",
    "        genre2=genre.loc[item]\n",
    "        genres = []\n",
    "        for k in list(genre.columns.values):\n",
    "            if (genre.loc[j,k]==1):\n",
    "                genres.append(k)\n",
    "        item.remove(j)\n",
    "        genre2=genre.loc[item][genres]\n",
    "        c[a,m] = genre2.values.sum()\n",
    "        m=m+1\n",
    "    a=a+1"
   ]
  },
  {
   "cell_type": "code",
   "execution_count": null,
   "metadata": {},
   "outputs": [],
   "source": [
    "df = pd.DataFrame(data=c)"
   ]
  },
  {
   "cell_type": "code",
   "execution_count": 17,
   "metadata": {},
   "outputs": [],
   "source": [
    "df.to_csv('D:/recommender system/occurence_genre.csv',index=False)"
   ]
  },
  {
   "cell_type": "code",
   "execution_count": 4,
   "metadata": {},
   "outputs": [],
   "source": [
    "genre = pd.read_csv('D:/recommender system/occurence_genre.csv')"
   ]
  },
  {
   "cell_type": "code",
   "execution_count": 10,
   "metadata": {},
   "outputs": [],
   "source": [
    "df=df.set_index(rating.index.values)\n",
    "rating=rating.iloc[index]\n",
    "df= df.iloc[index]"
   ]
  },
  {
   "cell_type": "markdown",
   "metadata": {},
   "source": [
    "#  Comptages occurence directors"
   ]
  },
  {
   "cell_type": "code",
   "execution_count": 9,
   "metadata": {},
   "outputs": [],
   "source": [
    "directors = pd.read_csv('D:/recommender system/directors.csv',sep = ';',error_bad_lines=False)"
   ]
  },
  {
   "cell_type": "code",
   "execution_count": 10,
   "metadata": {},
   "outputs": [],
   "source": [
    "directors['tconst']=directors['tconst'].str.replace('tt', '').astype(float)"
   ]
  },
  {
   "cell_type": "code",
   "execution_count": 11,
   "metadata": {},
   "outputs": [],
   "source": [
    "directors = directors.drop(['writers'],axis=1)"
   ]
  },
  {
   "cell_type": "code",
   "execution_count": 12,
   "metadata": {},
   "outputs": [],
   "source": [
    "item_matrix = item_matrix.merge(directors, left_on='imdb', right_on='tconst')"
   ]
  },
  {
   "cell_type": "code",
   "execution_count": 13,
   "metadata": {},
   "outputs": [],
   "source": [
    "item_matrix = item_matrix.drop(['tconst'] , axis = 1)"
   ]
  },
  {
   "cell_type": "code",
   "execution_count": 15,
   "metadata": {},
   "outputs": [],
   "source": [
    "item_matrix.to_csv('D:/recommender system/item_matrix.csv',index=False)"
   ]
  },
  {
   "cell_type": "code",
   "execution_count": 50,
   "metadata": {},
   "outputs": [],
   "source": [
    "a=0\n",
    "c = np.zeros( (len(list(rating.index.values)), len(rating.columns.values)) )\n",
    "for l in list(rating.index.values):\n",
    "    m=0\n",
    "    for j in list(rating.columns.values):\n",
    "        b=item_matrix.loc[m,'directors']\n",
    "        n= 0\n",
    "        item = []\n",
    "        item.append(j)\n",
    "        for i in list(rating.columns.values):\n",
    "            if (not(pd.isna(rating.loc[l,i]))):\n",
    "                n = n+1\n",
    "                item.append(i)\n",
    "        matrix=item_matrix.loc[item_matrix['movieId'].isin(item)]\n",
    "        director=len(matrix.loc[matrix['directors']==b])\n",
    "        c[a,m]=director\n",
    "        m=m+1\n",
    "    a=a+1"
   ]
  },
  {
   "cell_type": "code",
   "execution_count": 53,
   "metadata": {},
   "outputs": [],
   "source": [
    "pd.DataFrame(c).to_csv('D:/recommender system/occurence_directors.csv',index=False)"
   ]
  },
  {
   "cell_type": "code",
   "execution_count": 5,
   "metadata": {},
   "outputs": [],
   "source": [
    "director=pd.read_csv('D:/recommender system/occurence_directors.csv')"
   ]
  },
  {
   "cell_type": "markdown",
   "metadata": {},
   "source": [
    "#  Comptage occurence pays"
   ]
  },
  {
   "cell_type": "code",
   "execution_count": 57,
   "metadata": {},
   "outputs": [],
   "source": [
    "pd.DataFrame(c).to_csv('D:/recommender system/occurence_country.csv',index=False)"
   ]
  },
  {
   "cell_type": "code",
   "execution_count": null,
   "metadata": {},
   "outputs": [],
   "source": [
    "a=0\n",
    "c = np.zeros( (len(list(rating.index.values)), len(rating.columns.values)) )\n",
    "for l in list(rating.index.values):\n",
    "    m=0\n",
    "    for j in list(rating.columns.values):\n",
    "        b=item_matrix.loc[m,'country']\n",
    "        n= 0\n",
    "        item = []\n",
    "        item.append(j)\n",
    "        for i in list(rating.columns.values):\n",
    "            if (not(pd.isna(rating.loc[l,i]))):\n",
    "                n = n+1\n",
    "                item.append(i)\n",
    "        matrix=item_matrix.loc[item_matrix['movieId'].isin(item)]\n",
    "        country=len(matrix.loc[matrix['country']==b])\n",
    "        c[a,m]=country\n",
    "        m=m+1\n",
    "    a=a+1"
   ]
  },
  {
   "cell_type": "code",
   "execution_count": 6,
   "metadata": {},
   "outputs": [],
   "source": [
    "country=pd.read_csv('D:/recommender system/occurence_directors.csv')"
   ]
  },
  {
   "cell_type": "markdown",
   "metadata": {},
   "source": [
    "# Actors"
   ]
  },
  {
   "cell_type": "code",
   "execution_count": 61,
   "metadata": {},
   "outputs": [],
   "source": [
    "a=0\n",
    "c = np.zeros( (len(list(rating.index.values)), len(rating.columns.values)) )\n",
    "for l in list(rating.index.values):\n",
    "    m=0\n",
    "    for j in list(rating.columns.values):\n",
    "        actor1=item_matrix.loc[m,'Actor 1']\n",
    "        actor2=item_matrix.loc[m,'Actor 2']\n",
    "        actor3=item_matrix.loc[m,'Actor 3']\n",
    "        list_actor = [actor1,actor2,actor3]\n",
    "        n= 0\n",
    "        item = []\n",
    "        item.append(j)\n",
    "        for i in list(rating.columns.values):\n",
    "            if (not(pd.isna(rating.loc[l,i]))):\n",
    "                n = n+1\n",
    "                item.append(i)\n",
    "        matrix=item_matrix.loc[item_matrix['movieId'].isin(item)]\n",
    "        actor=len(matrix.loc[matrix['Actor 1'].isin(list_actor) | matrix['Actor 2'].isin(list_actor) | matrix['Actor 3'].isin(list_actor)])\n",
    "        c[a,m]=actor\n",
    "        m=m+1\n",
    "    a=a+1"
   ]
  },
  {
   "cell_type": "code",
   "execution_count": 63,
   "metadata": {},
   "outputs": [],
   "source": [
    "pd.DataFrame(c).to_csv('D:/recommender system/occurence_actors.csv',index=False)"
   ]
  },
  {
   "cell_type": "code",
   "execution_count": 7,
   "metadata": {},
   "outputs": [],
   "source": [
    "actors=pd.read_csv('D:/recommender system/occurence_actors.csv')"
   ]
  },
  {
   "cell_type": "markdown",
   "metadata": {},
   "source": [
    "# Emotion"
   ]
  },
  {
   "cell_type": "code",
   "execution_count": 349,
   "metadata": {},
   "outputs": [],
   "source": [
    "sentiment = item_matrix.iloc[:,7:34]\n",
    "columns = list(sentiment.columns)"
   ]
  },
  {
   "cell_type": "code",
   "execution_count": 334,
   "metadata": {},
   "outputs": [],
   "source": [
    "sentiment['Pos-Neg']=(sentiment['Pos-Neg']).replace(',', '.', regex=True).astype(float)"
   ]
  },
  {
   "cell_type": "code",
   "execution_count": 335,
   "metadata": {},
   "outputs": [],
   "source": [
    "from sklearn.preprocessing import MinMaxScaler\n",
    "sentiment = pd.DataFrame(MinMaxScaler(feature_range=(0,100)).fit_transform(sentiment))\n",
    "sentiment.columns = columns"
   ]
  },
  {
   "cell_type": "code",
   "execution_count": 337,
   "metadata": {},
   "outputs": [],
   "source": [
    "for i in columns : \n",
    "    sentiment.loc[sentiment[i] < 50,i ] = 0\n",
    "    sentiment.loc[sentiment[i] >= 50,i] = 1"
   ]
  },
  {
   "cell_type": "code",
   "execution_count": 338,
   "metadata": {},
   "outputs": [],
   "source": [
    "for i in columns : \n",
    "    sentiment[i] = sentiment[i].astype('int')"
   ]
  },
  {
   "cell_type": "code",
   "execution_count": 340,
   "metadata": {},
   "outputs": [],
   "source": [
    "sentiment.to_csv('D:/recommender system/sentiment_seuil_50.csv')"
   ]
  },
  {
   "cell_type": "code",
   "execution_count": 341,
   "metadata": {},
   "outputs": [],
   "source": [
    "sentiment.index=item.index"
   ]
  },
  {
   "cell_type": "code",
   "execution_count": null,
   "metadata": {},
   "outputs": [],
   "source": []
  },
  {
   "cell_type": "code",
   "execution_count": 343,
   "metadata": {},
   "outputs": [],
   "source": [
    "a=0\n",
    "c = np.zeros( (len(list(rating.index.values)), len(rating.columns.values)) )\n",
    "for l in list(rating.index.values):\n",
    "    m=0\n",
    "    for j in list(rating.columns.values):\n",
    "        n= 0\n",
    "        objets = []\n",
    "        objets.append(j)\n",
    "        for i in list(rating.columns.values):\n",
    "            if (not(pd.isna(rating.loc[l,i]))):\n",
    "                n = n+1\n",
    "                objets.append(i)\n",
    "        objets = list(map(int, objets))\n",
    "        sentiment2=sentiment.loc[objets]\n",
    "        sentiments = []\n",
    "        for k in list(sentiment.columns.values):\n",
    "            if (sentiment.loc[int(j),k]==1):\n",
    "                sentiments.append(k)\n",
    "        objets.remove(int(j))\n",
    "        sentiment2=sentiment.loc[objets][sentiments]\n",
    "        c[a,m] = sentiment2.values.sum()\n",
    "        m=m+1\n",
    "    a=a+1"
   ]
  },
  {
   "cell_type": "code",
   "execution_count": null,
   "metadata": {},
   "outputs": [],
   "source": []
  },
  {
   "cell_type": "code",
   "execution_count": 161,
   "metadata": {},
   "outputs": [],
   "source": [
    "pd.DataFrame(c).to_csv('D:/recommender system/occurence_sentiment_seuil_70.csv',index=False)"
   ]
  },
  {
   "cell_type": "code",
   "execution_count": 286,
   "metadata": {},
   "outputs": [],
   "source": [
    "sentiment = pd.read_csv('D:/recommender system/occurence_sentiment_seuil_50.csv')"
   ]
  },
  {
   "cell_type": "markdown",
   "metadata": {},
   "source": [
    "# Emotion des users"
   ]
  },
  {
   "cell_type": "code",
   "execution_count": 11,
   "metadata": {},
   "outputs": [],
   "source": [
    "weight_emotion =  pd.read_csv('D:/recommender system/weight_emotion_dim2.csv',sep = ',',error_bad_lines=False)\n",
    "weight_genre =  pd.read_csv('D:/recommender system/weight_genre_dim2.csv',sep = ',',error_bad_lines=False)\n",
    "weight_emotion=weight_emotion.set_index(weight_emotion.iloc[:,0])\n",
    "weight_genre=weight_genre.set_index(weight_genre.iloc[:,0])\n",
    "weight_emotion = weight_emotion.iloc[:,1]\n",
    "weight_genre = weight_genre.iloc[:,1]"
   ]
  },
  {
   "cell_type": "code",
   "execution_count": 16,
   "metadata": {},
   "outputs": [
    {
     "name": "stderr",
     "output_type": "stream",
     "text": [
      "C:\\ProgramData\\Anaconda3\\lib\\site-packages\\ipykernel_launcher.py:3: SettingWithCopyWarning: \n",
      "A value is trying to be set on a copy of a slice from a DataFrame.\n",
      "Try using .loc[row_indexer,col_indexer] = value instead\n",
      "\n",
      "See the caveats in the documentation: http://pandas.pydata.org/pandas-docs/stable/user_guide/indexing.html#returning-a-view-versus-a-copy\n",
      "  This is separate from the ipykernel package so we can avoid doing imports until\n",
      "C:\\ProgramData\\Anaconda3\\lib\\site-packages\\ipykernel_launcher.py:4: SettingWithCopyWarning: \n",
      "A value is trying to be set on a copy of a slice from a DataFrame.\n",
      "Try using .loc[row_indexer,col_indexer] = value instead\n",
      "\n",
      "See the caveats in the documentation: http://pandas.pydata.org/pandas-docs/stable/user_guide/indexing.html#returning-a-view-versus-a-copy\n",
      "  after removing the cwd from sys.path.\n",
      "C:\\ProgramData\\Anaconda3\\lib\\site-packages\\pandas\\core\\indexing.py:494: SettingWithCopyWarning: \n",
      "A value is trying to be set on a copy of a slice from a DataFrame.\n",
      "Try using .loc[row_indexer,col_indexer] = value instead\n",
      "\n",
      "See the caveats in the documentation: http://pandas.pydata.org/pandas-docs/stable/user_guide/indexing.html#returning-a-view-versus-a-copy\n",
      "  self.obj[item] = s\n"
     ]
    }
   ],
   "source": [
    "r=item_matrix.iloc[:,np.r_[16:36,38]]\n",
    "#r['Pos-Neg']=(r['Pos-Neg']).replace(',', '.', regex=True).astype(float)\n",
    "r['Ero']=(r['Ero']).replace(',', '.', regex=True).astype(float)\n",
    "r['AFINN(-4&-5)']=(r['AFINN(-4&-5)']).replace(',', '.', regex=True).astype(float)\n",
    "\n",
    "r.iloc[:,0:20] = MinMaxScaler(feature_range=(0,100)).fit_transform(r.iloc[:,0:20])"
   ]
  },
  {
   "cell_type": "raw",
   "metadata": {},
   "source": [
    "Création de la matrice émotion"
   ]
  },
  {
   "cell_type": "code",
   "execution_count": 19,
   "metadata": {},
   "outputs": [],
   "source": [
    "emotion=np.zeros( (len(list(rating.index.values)),len(list(rating.columns.values))))\n",
    "k=0\n",
    "l=0\n",
    "for i in list(rating.index.values):\n",
    "    l=0\n",
    "    for j in list(rating.columns.values):\n",
    "        item1=[]\n",
    "        for m in list(rating.columns.values):\n",
    "            if (not(pd.isna(rating.loc[i,m]))):\n",
    "                item1.append(m)\n",
    "        if (j in item1):\n",
    "            item1.remove(j)\n",
    "        temp=np.array(r[r['movieId'].isin(item1)].mean(axis=0))        \n",
    "        emotion[k,l]= sum(temp[0:20]*np.array(weight_emotion))\n",
    "        l=l+1   \n",
    "    k=k+1"
   ]
  },
  {
   "cell_type": "code",
   "execution_count": 71,
   "metadata": {},
   "outputs": [],
   "source": [
    "pd.DataFrame(emotion).to_csv('D:/recommender system/normalize_emotion_2.csv',index=False)"
   ]
  },
  {
   "cell_type": "code",
   "execution_count": 141,
   "metadata": {},
   "outputs": [],
   "source": [
    "emotion_not_normalize =  pd.read_csv('D:/recommender system/not_normalize_emotion.csv',sep = ',',error_bad_lines=False)\n",
    "emotion = pd.read_csv('D:/recommender system/normalize_emotion.csv',sep = ',',error_bad_lines=False)\n",
    "emotion=emotion.set_index(rating.index.values)"
   ]
  },
  {
   "cell_type": "markdown",
   "metadata": {},
   "source": [
    "# Weight"
   ]
  },
  {
   "cell_type": "code",
   "execution_count": 366,
   "metadata": {},
   "outputs": [],
   "source": [
    "weight = pd.read_csv('D:/recommender system/weight_seuil_30.csv')"
   ]
  },
  {
   "cell_type": "code",
   "execution_count": 367,
   "metadata": {},
   "outputs": [],
   "source": [
    "weight_genre = sum(weight.iloc[27:44,1])/100"
   ]
  },
  {
   "cell_type": "code",
   "execution_count": 368,
   "metadata": {},
   "outputs": [],
   "source": [
    "weight_actor = sum(weight.iloc[44:47,1])/100"
   ]
  },
  {
   "cell_type": "code",
   "execution_count": 369,
   "metadata": {},
   "outputs": [],
   "source": [
    "weight_director = weight.iloc[47,1]/100"
   ]
  },
  {
   "cell_type": "code",
   "execution_count": 370,
   "metadata": {},
   "outputs": [],
   "source": [
    "weight_country = weight.iloc[48,1]/100"
   ]
  },
  {
   "cell_type": "code",
   "execution_count": 371,
   "metadata": {},
   "outputs": [],
   "source": [
    "weight_sentiment = sum(weight.iloc[0:27,1])/100"
   ]
  },
  {
   "cell_type": "code",
   "execution_count": 372,
   "metadata": {},
   "outputs": [
    {
     "data": {
      "text/plain": [
       "0.999999999999999"
      ]
     },
     "execution_count": 372,
     "metadata": {},
     "output_type": "execute_result"
    }
   ],
   "source": [
    "weight_genre+weight_actor+weight_director+weight_country+weight_sentiment"
   ]
  },
  {
   "cell_type": "code",
   "execution_count": 157,
   "metadata": {},
   "outputs": [],
   "source": [
    "weight = pd.read_csv('D:/recommender system/weight.csv')"
   ]
  },
  {
   "cell_type": "code",
   "execution_count": 158,
   "metadata": {},
   "outputs": [],
   "source": [
    "weight_genre = sum(weight.iloc[0:17,1])\n",
    "weight_actor = sum(weight.iloc[17:20,1])\n",
    "weight_director = weight.iloc[20,1]\n",
    "weight_country = weight.iloc[21,1]"
   ]
  },
  {
   "cell_type": "code",
   "execution_count": 375,
   "metadata": {},
   "outputs": [],
   "source": [
    "genre = pd.read_csv('D:/recommender system/occurence_genre.csv')\n",
    "sentiment = pd.read_csv('D:/recommender system/occurence_sentiment_seuil_30.csv',sep=';')\n",
    "actors=pd.read_csv('D:/recommender system/occurence_actors.csv')\n",
    "director=pd.read_csv('D:/recommender system/occurence_directors.csv')\n",
    "country=pd.read_csv('D:/recommender system/occurence_directors.csv')"
   ]
  },
  {
   "cell_type": "markdown",
   "metadata": {},
   "source": [
    "# Semantic rating"
   ]
  },
  {
   "cell_type": "code",
   "execution_count": 374,
   "metadata": {},
   "outputs": [],
   "source": [
    "mean = rating.mean(axis=1)\n",
    "full = rating.fillna(0)\n",
    "#number of rated items\n",
    "N = 112-rating.isnull().sum(axis=1)"
   ]
  },
  {
   "cell_type": "code",
   "execution_count": 6,
   "metadata": {},
   "outputs": [],
   "source": [
    "index=np.sort(np.argpartition(N, len(N) - 1000)[-1000:])"
   ]
  },
  {
   "cell_type": "code",
   "execution_count": 343,
   "metadata": {},
   "outputs": [],
   "source": [
    "semantic = full"
   ]
  },
  {
   "cell_type": "code",
   "execution_count": 376,
   "metadata": {},
   "outputs": [],
   "source": [
    "semantic = pd.DataFrame(np.array(full) + np.array( mean[:, None] * (weight_genre*genre  +  weight_actor*np.array(actors)  +  weight_director*np.array(director)  +  weight_country*np.array(country) + weight_sentiment*np.array(sentiment)) / N[:,None]))"
   ]
  },
  {
   "cell_type": "code",
   "execution_count": 377,
   "metadata": {},
   "outputs": [],
   "source": [
    "max = semantic.max().max()\n",
    "min = semantic.min().min()\n",
    "semantic.index.name='userId'\n",
    "semantic.columns.name='movieId'\n",
    "semantic=semantic.stack().reset_index(name='rating')\n",
    "rating2=full.stack().reset_index(name='rating')\n",
    "semantic['movieId']=rating2.iloc[:,1]"
   ]
  },
  {
   "cell_type": "code",
   "execution_count": 327,
   "metadata": {},
   "outputs": [],
   "source": [
    "cols = semantic.columns.tolist()"
   ]
  },
  {
   "cell_type": "code",
   "execution_count": 224,
   "metadata": {},
   "outputs": [],
   "source": [
    "cols = cols[-1:] + cols[:-1]"
   ]
  },
  {
   "cell_type": "code",
   "execution_count": 378,
   "metadata": {},
   "outputs": [
    {
     "data": {
      "text/plain": [
       "['userId', 'movieId', 'rating']"
      ]
     },
     "execution_count": 378,
     "metadata": {},
     "output_type": "execute_result"
    }
   ],
   "source": [
    "cols\n",
    "#'userID', 'itemID', 'rating'\n"
   ]
  },
  {
   "cell_type": "code",
   "execution_count": 379,
   "metadata": {},
   "outputs": [],
   "source": [
    "semantic=semantic[cols]"
   ]
  },
  {
   "cell_type": "code",
   "execution_count": 380,
   "metadata": {},
   "outputs": [
    {
     "data": {
      "text/plain": [
       "<matplotlib.axes._subplots.AxesSubplot at 0x1c17299f388>"
      ]
     },
     "execution_count": 380,
     "metadata": {},
     "output_type": "execute_result"
    },
    {
     "data": {
      "image/png": "[encoded data removed]",
      "text/plain": [
       "<Figure size 432x288 with 1 Axes>"
      ]
     },
     "metadata": {
      "needs_background": "light"
     },
     "output_type": "display_data"
    }
   ],
   "source": [
    "semantic['rating'].hist()"
   ]
  },
  {
   "cell_type": "markdown",
   "metadata": {},
   "source": [
    "# Modelling"
   ]
  },
  {
   "cell_type": "code",
   "execution_count": 381,
   "metadata": {},
   "outputs": [],
   "source": [
    "from surprise.model_selection import train_test_split\n",
    "from surprise import Dataset\n",
    "from surprise import Reader\n",
    "reader=Reader(rating_scale=(0,max))\n",
    "data=Dataset.load_from_df(semantic,reader)"
   ]
  },
  {
   "cell_type": "code",
   "execution_count": 382,
   "metadata": {},
   "outputs": [],
   "source": [
    "item_matrix = item_matrix.sort_values(by=['movieId'])\n",
    "item = item_matrix.set_index('movieId')\n",
    "item_sentiment = pd.read_csv('D:/recommender system/sentiment_seuil_30.csv')\n",
    "item_sentiment.iloc[:,0] = item.index\n",
    "item = item.iloc[:,43:65]\n",
    "item = item.merge(item_sentiment, left_on='movieId', right_on='Unnamed: 0', suffixes=(False, False))\n",
    "item = item.set_index('Unnamed: 0')"
   ]
  },
  {
   "cell_type": "code",
   "execution_count": 383,
   "metadata": {},
   "outputs": [],
   "source": [
    "# Label Encoding \n",
    "from sklearn import preprocessing\n",
    "le = preprocessing.LabelEncoder()\n",
    "item['country'] = le.fit_transform(item.country.values)\n",
    "item['directors'] = le.fit_transform(item.directors.values)\n",
    "stacked = item[['Actor 1', 'Actor 2', 'Actor 3']].stack().astype('category')\n",
    "item[['Actor 1', 'Actor 2', 'Actor 3']] = stacked.cat.codes.unstack()"
   ]
  },
  {
   "cell_type": "code",
   "execution_count": 386,
   "metadata": {},
   "outputs": [
    {
     "name": "stdout",
     "output_type": "stream",
     "text": [
      "RMSE: 1.3525\n"
     ]
    },
    {
     "name": "stderr",
     "output_type": "stream",
     "text": [
      "C:\\ProgramData\\Anaconda3\\lib\\site-packages\\scipy\\sparse\\base.py:582: RuntimeWarning: divide by zero encountered in true_divide\n",
      "  return self.astype(np.float_)._mul_scalar(1./other)\n",
      "C:\\ProgramData\\Anaconda3\\lib\\site-packages\\scipy\\sparse\\base.py:582: RuntimeWarning: divide by zero encountered in true_divide\n",
      "  return self.astype(np.float_)._mul_scalar(1./other)\n",
      "C:\\ProgramData\\Anaconda3\\lib\\site-packages\\scipy\\sparse\\base.py:582: RuntimeWarning: divide by zero encountered in true_divide\n",
      "  return self.astype(np.float_)._mul_scalar(1./other)\n"
     ]
    },
    {
     "name": "stdout",
     "output_type": "stream",
     "text": [
      "RMSE: 1.3628\n",
      "RMSE: 1.3860\n",
      "RMSE: 1.4104\n"
     ]
    }
   ],
   "source": [
    "from surprise import SVD\n",
    "from surprise import accuracy\n",
    "from recmetrics import intra_list_similarity\n",
    "split = [0.1,0.2,0.3,0.4]\n",
    "rsme = []\n",
    "precision = []\n",
    "recall = []\n",
    "F1 = []\n",
    "F2 = []\n",
    "intra_sentiment = []\n",
    "intra_genre = []\n",
    "intra_actor = []\n",
    "for i in split :\n",
    "    trainset, testset = train_test_split(data, test_size=i,random_state=42)\n",
    "    algo = SVD()\n",
    "    algo.fit(trainset)\n",
    "    predictions = algo.test(testset)\n",
    "    rsme.append(accuracy.rmse(predictions, verbose=True))\n",
    "    #predictions = change_semantic(predictions)\n",
    "    predictions = change_prediction(predictions,rating)\n",
    "    precisions, recalls = precision_recall_at_k(predictions, k=20, threshold=4)\n",
    "    p=sum(prec for prec in precisions.values()) / len(precisions)\n",
    "    precision.append(p)\n",
    "    r=sum(rec for rec in recalls.values()) / len(recalls)\n",
    "    recall.append(r)\n",
    "    F1.append(2*(p*r)/(p+r))\n",
    "    F2.append(5*(p*r)/(4*p+r))\n",
    "    pred = []\n",
    "    top_n = get_top_n(predictions, n=10)\n",
    "    for uid, user_ratings in top_n.items():\n",
    "        pred.append([iid for (iid, _) in user_ratings])\n",
    "    pred = [[int(num) for num in sub] for sub in pred]\n",
    "    intra_sentiment.append(intra_list_similarity(pred,item.iloc[:,0:17]))\n",
    "    intra_genre.append(intra_list_similarity(pred,item.iloc[:,18:20]))\n",
    "    intra_actor.append(intra_list_similarity(pred,item.iloc[:,22:49]))"
   ]
  },
  {
   "cell_type": "code",
   "execution_count": 387,
   "metadata": {},
   "outputs": [
    {
     "data": {
      "text/plain": [
       "[0.5457056002004533,\n",
       " 0.5556796867863818,\n",
       " 0.5877763157894735,\n",
       " 0.5819499999999995]"
      ]
     },
     "execution_count": 387,
     "metadata": {},
     "output_type": "execute_result"
    }
   ],
   "source": [
    "precision"
   ]
  },
  {
   "cell_type": "code",
   "execution_count": 388,
   "metadata": {},
   "outputs": [
    {
     "data": {
      "text/plain": [
       "[0.9841749999999999, 0.8935858558713936, 0.660653070028182, 0.488123304305183]"
      ]
     },
     "execution_count": 388,
     "metadata": {},
     "output_type": "execute_result"
    }
   ],
   "source": [
    "recall"
   ]
  },
  {
   "cell_type": "code",
   "execution_count": 389,
   "metadata": {},
   "outputs": [
    {
     "data": {
      "text/plain": [
       "[0.7021068297838554,\n",
       " 0.6852402046304773,\n",
       " 0.6220876117263824,\n",
       " 0.5309231728285163]"
      ]
     },
     "execution_count": 389,
     "metadata": {},
     "output_type": "execute_result"
    }
   ],
   "source": [
    "F1"
   ]
  },
  {
   "cell_type": "code",
   "execution_count": 305,
   "metadata": {},
   "outputs": [
    {
     "data": {
      "text/plain": [
       "[0.7051605876187597,\n",
       " 0.5785852580374548,\n",
       " 0.42307121560085814,\n",
       " 0.32580765559032543]"
      ]
     },
     "execution_count": 305,
     "metadata": {},
     "output_type": "execute_result"
    }
   ],
   "source": [
    "F2"
   ]
  },
  {
   "cell_type": "code",
   "execution_count": 338,
   "metadata": {},
   "outputs": [
    {
     "data": {
      "text/plain": [
       "[0.32710351611909616,\n",
       " 0.3775687045221933,\n",
       " 0.39134240348699395,\n",
       " 0.4033022319444353]"
      ]
     },
     "execution_count": 338,
     "metadata": {},
     "output_type": "execute_result"
    }
   ],
   "source": [
    "intra_sentiment"
   ]
  },
  {
   "cell_type": "code",
   "execution_count": 339,
   "metadata": {},
   "outputs": [
    {
     "data": {
      "text/plain": [
       "[0.9026285724825408,\n",
       " 0.8861510320435756,\n",
       " 0.8922562689275834,\n",
       " 0.9061427547546446]"
      ]
     },
     "execution_count": 339,
     "metadata": {},
     "output_type": "execute_result"
    }
   ],
   "source": [
    "intra_genre"
   ]
  },
  {
   "cell_type": "code",
   "execution_count": 340,
   "metadata": {},
   "outputs": [
    {
     "data": {
      "text/plain": [
       "[0.7477699405390672,\n",
       " 0.8641468963795007,\n",
       " 0.9012763302658409,\n",
       " 0.9182524788164927]"
      ]
     },
     "execution_count": 340,
     "metadata": {},
     "output_type": "execute_result"
    }
   ],
   "source": [
    "intra_actor"
   ]
  },
  {
   "cell_type": "code",
   "execution_count": 135,
   "metadata": {},
   "outputs": [],
   "source": [
    "def change_prediction(predictions,rating) :\n",
    "\n",
    "    votes = []\n",
    "    for i in range (len(predictions)):\n",
    "        votes.append(predictions[i][0:3])\n",
    "    a=pd.DataFrame.from_records( votes, columns =['userId', 'movieId', 'rating'])\n",
    "    a['movieId']=pd.to_numeric(a['movieId'])\n",
    "    df=pd.pivot_table(a,values='rating',index='userId',columns='movieId')\n",
    "    for i in range(len(rating.index)):\n",
    "        for j in range(len(rating.columns)):\n",
    "            if pd.notnull(df.iloc[i,j]) :\n",
    "                if pd.isna(rating.iloc[i,j]):\n",
    "                    df.iloc[i,j] = 0\n",
    "                else : \n",
    "                    df.iloc[i,j] = rating.iloc[i,j]\n",
    "\n",
    "    tuples = [tuple(x) for x in df.stack().reset_index(name='rating').values]\n",
    "\n",
    "\n",
    "    from collections import namedtuple\n",
    "    class_name = 'Prediction'\n",
    "    fields = 'uid iid r_ui est details'\n",
    "    pred = namedtuple(class_name, fields)\n",
    "\n",
    "    b=[]\n",
    "    for index, item in enumerate(predictions):\n",
    "        c = pred(item[0],int(item[1]),item[2],item[3],item[4])\n",
    "        b.append(c)\n",
    "    b=sorted(b, key=lambda element: (element[0], element[1]))\n",
    "\n",
    "    d=[]\n",
    "    for item1,item2 in zip(tuples,b):\n",
    "        c=pred(item2[0],item2[1],item1[2],item2[3],item2[4])\n",
    "        d.append(c)\n",
    "\n",
    "    return d"
   ]
  },
  {
   "cell_type": "code",
   "execution_count": 385,
   "metadata": {},
   "outputs": [],
   "source": [
    "from collections import defaultdict\n",
    "\n",
    "def precision_recall_at_k(predictions, k=20, threshold=4):\n",
    "    '''Return precision and recall at k metrics for each user.'''\n",
    "\n",
    "    # First map the predictions to each user.\n",
    "    user_est_true = defaultdict(list)\n",
    "    for uid, _, true_r, est, _ in predictions:\n",
    "        user_est_true[uid].append((est, true_r))\n",
    "\n",
    "    precisions = dict()\n",
    "    recalls = dict()\n",
    "    for uid, user_ratings in user_est_true.items():\n",
    "\n",
    "        # Sort user ratings by estimated value\n",
    "        user_ratings.sort(key=lambda x: x[0], reverse=True)\n",
    "\n",
    "        # Number of relevant items\n",
    "        n_rel = sum((true_r >= threshold) for (_, true_r) in user_ratings)\n",
    "\n",
    "        # Number of recommended items in top k\n",
    "        n_rec_k = sum((est >= threshold) for (est, _) in user_ratings[:k])\n",
    "\n",
    "        # Number of relevant and recommended items in top k\n",
    "        n_rel_and_rec_k = sum(((true_r >= threshold) and (est >= threshold))\n",
    "                              for (est, true_r) in user_ratings[:k])\n",
    "\n",
    "        # Precision@K: Proportion of recommended items that are relevant\n",
    "        # When n_rec_k is 0, Precision is undefined. We here set it to 0.\n",
    "\n",
    "        precisions[uid] = n_rel_and_rec_k / n_rec_k if n_rec_k != 0 else 0\n",
    "\n",
    "        # Recall@K: Proportion of relevant items that are recommended\n",
    "        # When n_rel is 0, Recall is undefined. We here set it to 0.\n",
    "\n",
    "        recalls[uid] = n_rel_and_rec_k / n_rel if n_rel != 0 else 0\n",
    "\n",
    "    return precisions, recalls"
   ]
  },
  {
   "cell_type": "code",
   "execution_count": 384,
   "metadata": {},
   "outputs": [],
   "source": [
    "def get_top_n(predictions, n=20):\n",
    "    '''Return the top-N recommendation for each user from a set of predictions.\n",
    "\n",
    "    Args:\n",
    "        predictions(list of Prediction objects): The list of predictions, as\n",
    "            returned by the test method of an algorithm.\n",
    "        n(int): The number of recommendation to output for each user. Default\n",
    "            is 10.\n",
    "\n",
    "    Returns:\n",
    "    A dict where keys are user (raw) ids and values are lists of tuples:\n",
    "        [(raw item id, rating estimation), ...] of size n.\n",
    "    '''\n",
    "\n",
    "    # First map the predictions to each user.\n",
    "    top_n = defaultdict(list)\n",
    "    for uid, iid, true_r, est, _ in predictions:\n",
    "        top_n[uid].append((iid, est))\n",
    "\n",
    "    # Then sort the predictions for each user and retrieve the k highest ones.\n",
    "    for uid, user_ratings in top_n.items():\n",
    "        user_ratings.sort(key=lambda x: x[1], reverse=True)\n",
    "        top_n[uid] = user_ratings[:n]\n",
    "\n",
    "    return top_n"
   ]
  },
  {
   "cell_type": "code",
   "execution_count": 162,
   "metadata": {},
   "outputs": [],
   "source": [
    "def change_semantic (predictions):\n",
    "    votes = []\n",
    "    for i in range (len(predictions)):\n",
    "        votes.append([predictions[i][k] for k in [0,1,3]])\n",
    "    a=pd.DataFrame.from_records( votes, columns =['userId', 'movieId', 'rating'])\n",
    "    a['movieId']=pd.to_numeric(a['movieId'])\n",
    "    df=pd.pivot_table(a,values='rating',index='userId',columns='movieId')\n",
    "    df=pd.DataFrame(np.array(df) + np.array( mean[:, None] * (weight_genre*genre  +  weight_actor*np.array(actors)  +  weight_director*np.array(director)  +  weight_country*np.array(country) + weight_sentiment*np.array(sentiment)) / N[:,None]))\n",
    "    df.index.name='userId'\n",
    "    df.columns.name='movieId'\n",
    "    df.columns=full.columns\n",
    "    tuples = [tuple(x) for x in df.stack().reset_index(name='rating').values]\n",
    "    from collections import namedtuple\n",
    "    class_name = 'Prediction'\n",
    "    fields = 'uid iid r_ui est details'\n",
    "    pred = namedtuple(class_name, fields)\n",
    "\n",
    "    b=[]\n",
    "    for index, item in enumerate(predictions):\n",
    "        c = pred(item[0],int(item[1]),item[2],item[3],item[4])\n",
    "        b.append(c)\n",
    "    b=sorted(b, key=lambda element: (element[0], element[1]))\n",
    "\n",
    "    d=[]\n",
    "    for item1,item2 in zip(tuples,b):\n",
    "        c=pred(item2[0],item2[1],item2[2],item1[2],item2[4])\n",
    "        d.append(c)\n",
    "    return d"
   ]
  },
  {
   "cell_type": "code",
   "execution_count": null,
   "metadata": {},
   "outputs": [],
   "source": []
  },
  {
   "cell_type": "code",
   "execution_count": null,
   "metadata": {},
   "outputs": [],
   "source": []
  }
 ],
 "metadata": {
  "kernelspec": {
   "display_name": "Python 3",
   "language": "python",
   "name": "python3"
  },
  "language_info": {
   "codemirror_mode": {
    "name": "ipython",
    "version": 3
   },
   "file_extension": ".py",
   "mimetype": "text/x-python",
   "name": "python",
   "nbconvert_exporter": "python",
   "pygments_lexer": "ipython3",
   "version": "3.7.4"
  }
 },
 "nbformat": 4,
 "nbformat_minor": 2
}
